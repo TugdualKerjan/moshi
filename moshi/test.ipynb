{
 "cells": [
  {
   "cell_type": "code",
   "execution_count": null,
   "metadata": {},
   "outputs": [
    {
     "name": "stderr",
     "output_type": "stream",
     "text": [
      "/home/tugdual/miniconda3/envs/speechtok/lib/python3.11/site-packages/tqdm/auto.py:21: TqdmWarning: IProgress not found. Please update jupyter and ipywidgets. See https://ipywidgets.readthedocs.io/en/stable/user_install.html\n",
      "  from .autonotebook import tqdm as notebook_tqdm\n"
     ]
    }
   ],
   "source": [
    "from huggingface_hub import hf_hub_download\n",
    "import torch\n",
    "from IPython.display import Audio, display\n",
    "from moshi.models import loaders, LMGen\n",
    "\n",
    "mimi_weight = hf_hub_download(loaders.DEFAULT_REPO, loaders.MIMI_NAME)\n",
    "mimi = loaders.get_mimi(mimi_weight, device='cpu')\n",
    "mimi.set_num_codebooks(8)  # up to 32 for mimi, but limited to 8 for moshi.\n",
    "\n",
    "wav = torch.randn(1, 1, 24000 * 10)  # should be [B, C=1, T]\n",
    "with torch.no_grad():\n",
    "    codes = mimi.encode(wav)  # [B, K = 8, T]\n",
    "    decoded = mimi.decode(codes)\n",
    "\n",
    "    # Supports streaming too.\n",
    "    frame_size = int(mimi.sample_rate / mimi.frame_rate)\n",
    "    all_codes = []\n",
    "    with mimi.streaming(batch_size=1):\n",
    "        for offset in range(0, wav.shape[-1], frame_size):\n",
    "            frame = wav[:, :, offset: offset + frame_size]\n",
    "            codes = mimi.encode(frame)\n",
    "            assert codes.shape[-1] == 1, codes.shape\n",
    "            all_codes.append(codes)\n",
    "\n",
    "## WARNING: When streaming, make sure to always feed a total amount of audio that is a multiple\n",
    "#           of the frame size (1920), otherwise the last frame will not be complete, and thus\n",
    "#           will not be encoded. For simplicity, we recommend feeding in audio always in multiple\n",
    "#           of the frame size, so that you always know how many time steps you get back in `codes`.\n",
    "\n",
    "# Now if you have a GPU around.\n",
    "mimi.cuda()\n",
    "moshi_weight = hf_hub_download(loaders.DEFAULT_REPO, loaders.MOSHI_NAME)\n",
    "moshi = loaders.get_moshi_lm(moshi_weight, device='cuda')\n",
    "lm_gen = LMGen(moshi, temp=0.8, temp_text=0.7)  # this handles sampling params etc.\n",
    "out_wav_chunks = []\n",
    "# Now we will stream over both Moshi I/O, and decode on the fly with Mimi.\n",
    "with torch.no_grad(), lm_gen.streaming(1), mimi.streaming(1):\n",
    "    for idx, code in enumerate(all_codes):\n",
    "        tokens_out = lm_gen.step(code.cuda())\n",
    "        # tokens_out is [B, 1 + 8, 1], with tokens_out[:, 1] representing the text token.\n",
    "        if tokens_out is not None:\n",
    "            wav_chunk = mimi.decode(tokens_out[:, 1:])\n",
    "            out_wav_chunks.append(wav_chunk)\n",
    "        print(idx, end='\\r')\n",
    "out_wav = torch.cat(out_wav_chunks, dim=-1)"
   ]
  },
  {
   "cell_type": "code",
   "execution_count": null,
   "metadata": {},
   "outputs": [],
   "source": []
  }
 ],
 "metadata": {
  "kernelspec": {
   "display_name": "speechtok",
   "language": "python",
   "name": "python3"
  },
  "language_info": {
   "codemirror_mode": {
    "name": "ipython",
    "version": 3
   },
   "file_extension": ".py",
   "mimetype": "text/x-python",
   "name": "python",
   "nbconvert_exporter": "python",
   "pygments_lexer": "ipython3",
   "version": "3.11.10"
  }
 },
 "nbformat": 4,
 "nbformat_minor": 2
}
