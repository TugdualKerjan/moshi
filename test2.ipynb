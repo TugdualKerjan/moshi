{
 "cells": [
  {
   "cell_type": "code",
   "execution_count": 1,
   "metadata": {},
   "outputs": [],
   "source": [
    "%load_ext autoreload\n",
    "%autoreload 2"
   ]
  },
  {
   "cell_type": "code",
   "execution_count": 2,
   "metadata": {},
   "outputs": [
    {
     "name": "stderr",
     "output_type": "stream",
     "text": [
      "/tmp/ipykernel_135508/3243001323.py:47: DeprecationWarning: __array__ implementation doesn't accept a copy keyword, so passing copy=False failed. __array__ must implement 'dtype' and 'copy' keyword arguments.\n",
      "  their_params = {key: jax.numpy.array(numpy.array(value.detach())) for key, value in quantizer.named_parameters()}\n"
     ]
    }
   ],
   "source": [
    "import jax\n",
    "import torch\n",
    "import numpy\n",
    "import jax\n",
    "\n",
    "from moshi.moshi.quantization.vq import ResidualVectorQuantizer\n",
    "from moshi_jax.moshi_jax.quantization.vq import ResidualVectorQuantizer as JAXQuantizer\n",
    "\n",
    "_seanet_kwargs = {\n",
    "    \"channels\": 1,\n",
    "    \"dimension\": 512,\n",
    "    \"causal\": True,\n",
    "    \"n_filters\": 64,\n",
    "    \"n_residual_layers\": 1,\n",
    "    \"activation\": \"ELU\",\n",
    "    \"compress\": 2,\n",
    "    \"dilation_base\": 2,\n",
    "    \"disable_norm_outer_blocks\": 0,\n",
    "    \"kernel_size\": 7,\n",
    "    \"residual_kernel_size\": 3,\n",
    "    \"last_kernel_size\": 3,\n",
    "    # We train using weight_norm but then the weights are pre-processed for inference so\n",
    "    # that we can use a normal convolution.\n",
    "    \"norm\": \"none\",\n",
    "    \"pad_mode\": \"constant\",\n",
    "    \"ratios\": [8, 6, 5, 4],\n",
    "    \"true_skip\": True,\n",
    "}\n",
    "\n",
    "_quantizer_kwargs = {\n",
    "    \"dimension\": 128,\n",
    "    \"n_q\": 2,\n",
    "    \"bins\": 512,\n",
    "    \"input_dimension\": _seanet_kwargs[\"dimension\"],\n",
    "    \"output_dimension\": _seanet_kwargs[\"dimension\"],\n",
    "}\n",
    "\n",
    "device = torch.get_default_device()\n",
    "\n",
    "quantizer = ResidualVectorQuantizer(\n",
    "    **_quantizer_kwargs,\n",
    ")\n",
    "jax_quantizer = JAXQuantizer(\n",
    "    **_quantizer_kwargs,\n",
    "key=jax.random.key(1))\n",
    "\n",
    "their_params = {key: jax.numpy.array(numpy.array(value.detach())) for key, value in quantizer.named_parameters()}"
   ]
  },
  {
   "cell_type": "code",
   "execution_count": 3,
   "metadata": {},
   "outputs": [
    {
     "data": {
      "text/plain": [
       "Array([433, 128, 392,   3, 300, 476, 283, 402, 300,  88], dtype=int32)"
      ]
     },
     "execution_count": 3,
     "metadata": {},
     "output_type": "execute_result"
    }
   ],
   "source": [
    "our_x = jax.random.normal(jax.random.key(1), shape=(10, 128))\n",
    "jax_quantizer.vq.layers[0]._codebook._quantize(our_x)"
   ]
  },
  {
   "cell_type": "code",
   "execution_count": null,
   "metadata": {},
   "outputs": [],
   "source": []
  },
  {
   "cell_type": "code",
   "execution_count": 4,
   "metadata": {},
   "outputs": [
    {
     "name": "stdout",
     "output_type": "stream",
     "text": [
      "T after input_proj: torch.Size([1, 128, 10])\n",
      "T during resquant: torch.Size([1, 128, 10])\n",
      "T shape pre input: torch.Size([1, 10, 128])\n",
      "T shape pre out: torch.Size([10])\n",
      "T shape post out: torch.Size([1, 10])\n",
      "T during resquant: torch.Size([1, 128, 10])\n",
      "T shape pre input: torch.Size([1, 10, 128])\n",
      "T shape pre out: torch.Size([10])\n",
      "T shape post out: torch.Size([1, 10])\n",
      "O after input_proj: (128, 10)\n",
      "O during resquant: (128, 10)\n",
      "O shape pre input: (10, 128)\n",
      "O shape after out: (10,)\n",
      "O during resquant: (128, 10)\n"
     ]
    }
   ],
   "source": [
    "our_x = jax.random.normal(jax.random.key(1), shape=(1, 512, 10))\n",
    "their_x = torch.from_numpy(numpy.array(our_x))\n",
    "\n",
    "their_result = quantizer(their_x, 10)\n",
    "\n",
    "result =jax.vmap(jax_quantizer, in_axes=(0, None))(our_x, 10)"
   ]
  },
  {
   "cell_type": "code",
   "execution_count": null,
   "metadata": {},
   "outputs": [],
   "source": []
  }
 ],
 "metadata": {
  "kernelspec": {
   "display_name": "speechtok",
   "language": "python",
   "name": "python3"
  },
  "language_info": {
   "codemirror_mode": {
    "name": "ipython",
    "version": 3
   },
   "file_extension": ".py",
   "mimetype": "text/x-python",
   "name": "python",
   "nbconvert_exporter": "python",
   "pygments_lexer": "ipython3",
   "version": "3.11.10"
  }
 },
 "nbformat": 4,
 "nbformat_minor": 2
}
